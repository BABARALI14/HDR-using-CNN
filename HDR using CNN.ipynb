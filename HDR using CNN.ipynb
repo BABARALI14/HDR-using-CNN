{
 "cells": [
  {
   "cell_type": "markdown",
   "metadata": {},
   "source": [
    "By Ishwar Gautam \n",
    "(YouTube: <a href=\"https://www.youtube.com/channel/UC4Wf9XNPsbXwQqfKlUZfmtw\">IG Tech Team</a>)"
   ]
  },
  {
   "cell_type": "markdown",
   "metadata": {},
   "source": [
    "### 1. Collect the images"
   ]
  },
  {
   "cell_type": "code",
   "execution_count": 1,
   "metadata": {},
   "outputs": [],
   "source": [
    "def screen_capture():\n",
    "    import pyscreenshot as ImageGrab #pip install pyscreenshot\n",
    "    import time\n",
    "\n",
    "    images_folder = \"captured_images/0/\"\n",
    "    #images_folder = \"new_images/\"\n",
    "\n",
    "    for i in range(5):\n",
    "        time.sleep(5)\n",
    "        im = ImageGrab.grab(bbox=(60, 170, 400, 550)) # X1,Y1,X2,Y2\n",
    "        print (\"saved....\",i)\n",
    "        im.save(images_folder+str(i)+'.png')\n",
    "        print (\"clear screen now and redraw again...\")\n",
    "#screen_capture()"
   ]
  },
  {
   "cell_type": "markdown",
   "metadata": {},
   "source": [
    "### 2. Create data with label"
   ]
  },
  {
   "cell_type": "code",
   "execution_count": 2,
   "metadata": {},
   "outputs": [],
   "source": [
    "import numpy as np\n",
    "\n",
    "def create_label(image_name):\n",
    "    \"\"\" Create an one-hot encoded vector from image name \"\"\" \n",
    "    if image_name == '0':  \n",
    "        return np.array([1,0,0,0,0,0,0,0,0,0])\n",
    "    elif image_name == '1':\n",
    "        return np.array([0,1,0,0,0,0,0,0,0,0])\n",
    "    elif image_name == '2':\n",
    "        return np.array([0,0,1,0,0,0,0,0,0,0])\n",
    "    elif image_name == '3':\n",
    "        return np.array([0,0,0,1,0,0,0,0,0,0])\n",
    "    elif image_name == '4':\n",
    "        return np.array([0,0,0,0,1,0,0,0,0,0])\n",
    "    elif image_name == '5':\n",
    "        return np.array([0,0,0,0,0,1,0,0,0,0])\n",
    "    elif image_name == '6':\n",
    "        return np.array([0,0,0,0,0,0,1,0,0,0])\n",
    "    elif image_name == '7':\n",
    "        return np.array([0,0,0,0,0,0,0,1,0,0])\n",
    "    elif image_name == '8':\n",
    "        return np.array([0,0,0,0,0,0,0,0,1,0])\n",
    "    elif image_name == '9':\n",
    "        return np.array([0,0,0,0,0,0,0,0,0,1])"
   ]
  },
  {
   "cell_type": "code",
   "execution_count": 3,
   "metadata": {},
   "outputs": [],
   "source": [
    "import os\n",
    "import cv2\n",
    "from random import shuffle\n",
    "from tqdm import tqdm\n",
    "\n",
    "def create_data():\n",
    "    data = []\n",
    "    for folder in tqdm(os.listdir(\"captured_images\")):\n",
    "        for img in os.listdir(\"captured_images/\"+folder):\n",
    "            path = os.path.join(\"captured_images\",folder, img)\n",
    "            img_data = cv2.imread(path, cv2.IMREAD_GRAYSCALE)\n",
    "            try:\n",
    "                img_data = cv2.resize(img_data, (28,28))\n",
    "            except cv2.error as e:\n",
    "                continue\n",
    "            data.append([np.array(img_data), create_label(folder)])\n",
    "    shuffle(data)\n",
    "    return data"
   ]
  },
  {
   "cell_type": "code",
   "execution_count": 4,
   "metadata": {},
   "outputs": [
    {
     "name": "stderr",
     "output_type": "stream",
     "text": [
      "100%|████████████████████████████████████████████████████████████████| 10/10 [00:16<00:00,  1.67s/it]\n"
     ]
    }
   ],
   "source": [
    "data = create_data()"
   ]
  },
  {
   "cell_type": "markdown",
   "metadata": {},
   "source": [
    "### 3. Dividing data into training and testing part"
   ]
  },
  {
   "cell_type": "code",
   "execution_count": 5,
   "metadata": {},
   "outputs": [],
   "source": [
    "train = data[:800]\n",
    "test = data[800:]\n",
    "X_train = np.array([i[0] for i in train]).reshape(-1, 28,28, 1)\n",
    "y_train = [i[1] for i in train]\n",
    "X_test = np.array([i[0] for i in test]).reshape(-1, 28,28, 1)\n",
    "y_test = [i[1] for i in test]"
   ]
  },
  {
   "cell_type": "markdown",
   "metadata": {},
   "source": [
    "### 4. Buiding the model"
   ]
  },
  {
   "cell_type": "code",
   "execution_count": 7,
   "metadata": {},
   "outputs": [],
   "source": [
    "import warnings\n",
    "warnings.filterwarnings('ignore')\n",
    "\n",
    "import tensorflow as tf\n",
    "import tflearn\n",
    "from tflearn.layers.conv import conv_2d, max_pool_2d\n",
    "from tflearn.layers.core import input_data, dropout, fully_connected\n",
    "from tflearn.layers.estimator import regression"
   ]
  },
  {
   "cell_type": "code",
   "execution_count": 8,
   "metadata": {},
   "outputs": [],
   "source": [
    "## Steps of Convolutional neural network:\n",
    "# 1. Convolution layers\n",
    "# 2. Normalization\n",
    "# 3. Pooling\n",
    "# 4. Fully connected"
   ]
  },
  {
   "cell_type": "code",
   "execution_count": 9,
   "metadata": {},
   "outputs": [
    {
     "name": "stdout",
     "output_type": "stream",
     "text": [
      "Training Step: 155  | total loss: \u001b[1m\u001b[32m0.02571\u001b[0m\u001b[0m | time: 2.896s\n",
      "| Adam | epoch: 012 | loss: 0.02571 - acc: 0.9929 -- iter: 768/800\n",
      "Training Step: 156  | total loss: \u001b[1m\u001b[32m0.02389\u001b[0m\u001b[0m | time: 4.160s\n",
      "| Adam | epoch: 012 | loss: 0.02389 - acc: 0.9936 | val_loss: 0.14367 - val_acc: 0.9750 -- iter: 800/800\n",
      "--\n"
     ]
    }
   ],
   "source": [
    "tf.reset_default_graph()\n",
    "convnet = input_data(shape=[28,28, 1], name='input') \n",
    "convnet = conv_2d(convnet, 32, 5, activation='relu')\n",
    "convnet = max_pool_2d(convnet, 5)\n",
    "convnet = conv_2d(convnet, 64, 5, activation='relu')\n",
    "convnet = max_pool_2d(convnet, 5)\n",
    "convnet = conv_2d(convnet, 128, 5, activation='relu')\n",
    "convnet = max_pool_2d(convnet, 5)\n",
    "convnet = conv_2d(convnet, 64, 5, activation='relu')\n",
    "convnet = max_pool_2d(convnet, 5)\n",
    "convnet = conv_2d(convnet, 32, 5, activation='relu')\n",
    "convnet = max_pool_2d(convnet, 5)\n",
    "convnet = fully_connected(convnet, 1024, activation='relu')\n",
    "convnet = dropout(convnet, 0.5) #prevent a model from overfitting\n",
    "convnet = fully_connected(convnet, 10, activation='softmax')\n",
    "convnet = regression(convnet, optimizer='adam', learning_rate=0.001, loss='categorical_crossentropy', name='targets')  \n",
    "model = tflearn.DNN(convnet, tensorboard_verbose=1)  \n",
    "model.fit({'input': X_train}, {'targets': y_train}, n_epoch=12,\n",
    "          validation_set=({'input': X_test}, {'targets': y_test}),\n",
    "          show_metric=True)"
   ]
  },
  {
   "cell_type": "markdown",
   "metadata": {},
   "source": [
    "### 5. Let's predict and display using matplotlib"
   ]
  },
  {
   "cell_type": "code",
   "execution_count": 12,
   "metadata": {},
   "outputs": [],
   "source": [
    "def create_test_data():\n",
    "    data = []\n",
    "    for img in tqdm(os.listdir(\"new_images\")):\n",
    "        path = os.path.join(\"new_images\", img)\n",
    "        img_num = img.split('.')[0] \n",
    "        img_data = cv2.imread(path, cv2.IMREAD_GRAYSCALE)\n",
    "        try:\n",
    "            img_data = cv2.resize(img_data, (28,28))\n",
    "        except cv2.error as e:\n",
    "            continue\n",
    "        data.append([np.array(img_data), img_num])\n",
    "\n",
    "    shuffle(data)\n",
    "    return data"
   ]
  },
  {
   "cell_type": "code",
   "execution_count": 13,
   "metadata": {},
   "outputs": [
    {
     "name": "stderr",
     "output_type": "stream",
     "text": [
      "100%|████████████████████████████████████████████████████████████████| 10/10 [00:00<00:00, 30.62it/s]\n"
     ]
    }
   ],
   "source": [
    "test_data = create_test_data()"
   ]
  },
  {
   "cell_type": "code",
   "execution_count": 14,
   "metadata": {},
   "outputs": [
    {
     "data": {
      "image/png": "[encoded data removed]",
      "text/plain": [
       "<Figure size 720x720 with 10 Axes>"
      ]
     },
     "metadata": {
      "needs_background": "light"
     },
     "output_type": "display_data"
    }
   ],
   "source": [
    "import matplotlib.pyplot as plt\n",
    "\n",
    "fig = plt.figure(figsize=(10,10))\n",
    "for num, data in enumerate(test_data[:10]):\n",
    "    img_data = data[0]\n",
    "    y = fig.add_subplot(5,5, num + 1)\n",
    "    orig = img_data\n",
    "    data = img_data.reshape(28,28, 1)\n",
    "    model_out = model.predict([data])\n",
    "    str_label = \"Prediction: \" + str(np.argmax(model_out))\n",
    "\n",
    "    y.imshow(orig, cmap='gray')\n",
    "    plt.title(str_label)\n",
    "    y.axes.get_xaxis().set_visible(False)\n",
    "    y.axes.get_yaxis().set_visible(False)\n",
    "plt.show()"
   ]
  },
  {
   "cell_type": "code",
   "execution_count": null,
   "metadata": {},
   "outputs": [],
   "source": []
  }
 ],
 "metadata": {
  "kernelspec": {
   "display_name": "Python 3",
   "language": "python",
   "name": "python3"
  },
  "language_info": {
   "codemirror_mode": {
    "name": "ipython",
    "version": 3
   },
   "file_extension": ".py",
   "mimetype": "text/x-python",
   "name": "python",
   "nbconvert_exporter": "python",
   "pygments_lexer": "ipython3",
   "version": "3.7.6"
  }
 },
 "nbformat": 4,
 "nbformat_minor": 4
}
